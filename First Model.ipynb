{
 "cells": [
  {
   "cell_type": "markdown",
   "metadata": {},
   "source": [
    "# Example of the first model. What's better for each Region?, Data classifing. Map, Team, Won. \n",
    "## Classifier"
   ]
  },
  {
   "cell_type": "code",
   "execution_count": 3,
   "metadata": {},
   "outputs": [],
   "source": [
    "import numpy as np\n",
    "import matplotlib.pyplot as plt\n",
    "import pandas as pd\n",
    "import seaborn as sns\n",
    "from collections import Counter\n",
    "\n",
    "from pyexpat import features\n",
    "# Scikit-Learn\n",
    "## Model Selection\n",
    "from sklearn.model_selection import train_test_split\n",
    "from sklearn.model_selection import cross_val_score\n",
    "from sklearn.model_selection import GridSearchCV\n",
    "from sklearn.preprocessing import MinMaxScaler\n",
    "## Models\n",
    "from sklearn.ensemble import RandomForestClassifier\n",
    "from sklearn.ensemble import GradientBoostingClassifier\n",
    "from sklearn.linear_model import LogisticRegression\n",
    "from sklearn.tree import DecisionTreeClassifier\n",
    "## Metrics\n",
    "from sklearn.metrics import confusion_matrix\n",
    "from sklearn.metrics import roc_auc_score\n",
    "from sklearn.metrics import precision_score\n",
    "from sklearn.metrics import recall_score\n",
    "from sklearn.metrics import classification_report\n",
    "from sklearn.metrics import f1_score\n",
    "from sklearn.metrics import accuracy_score\n",
    "import warnings\n",
    "warnings.filterwarnings(\"ignore\")\n",
    "\n",
    "EMEA = pd.read_csv(\"D:/python_project/Valorant/First model csv/EMEA_test1.csv\")\n",
    "AMERICAS = pd.read_csv(\"D:/python_project/Valorant/First model csv/AMERICAS_test1.csv\")\n",
    "PACIFIC = pd.read_csv(\"D:/python_project/Valorant/First model csv/PACIFIC_test1.csv\")"
   ]
  },
  {
   "cell_type": "markdown",
   "metadata": {},
   "source": [
    "## Regional"
   ]
  },
  {
   "cell_type": "markdown",
   "metadata": {},
   "source": [
    "### EMEA"
   ]
  },
  {
   "cell_type": "code",
   "execution_count": 6,
   "metadata": {},
   "outputs": [
    {
     "data": {
      "text/plain": [
       "map             0\n",
       "t1_team_name    0\n",
       "t2_team_name    0\n",
       "Won             0\n",
       "dtype: int64"
      ]
     },
     "execution_count": 6,
     "metadata": {},
     "output_type": "execute_result"
    }
   ],
   "source": [
    "EMEA.isna().sum()"
   ]
  },
  {
   "cell_type": "code",
   "execution_count": 8,
   "metadata": {},
   "outputs": [
    {
     "data": {
      "text/plain": [
       "(          map   t1_team_name   t2_team_name\n",
       " 0       Split         FNATIC  Team Heretics\n",
       " 1      Icebox  Team Heretics    Team Liquid\n",
       " 2      Ascent    Team Liquid  Team Heretics\n",
       " 3       Haven  Team Heretics    Team Liquid\n",
       " 4    Fracture    Team Liquid    BBL Esports\n",
       " ..        ...            ...            ...\n",
       " 99   Fracture   Karmine Corp    BBL Esports\n",
       " 100     Pearl   Karmine Corp    BBL Esports\n",
       " 101    Icebox    BBL Esports   Karmine Corp\n",
       " 102     Lotus  Team Vitality         GIANTX\n",
       " 103     Split  Team Vitality         GIANTX\n",
       " \n",
       " [104 rows x 3 columns],\n",
       " 0      1\n",
       " 1      1\n",
       " 2      0\n",
       " 3      1\n",
       " 4      1\n",
       "       ..\n",
       " 99     0\n",
       " 100    0\n",
       " 101    0\n",
       " 102    1\n",
       " 103    1\n",
       " Name: Won, Length: 104, dtype: int64)"
      ]
     },
     "execution_count": 8,
     "metadata": {},
     "output_type": "execute_result"
    }
   ],
   "source": [
    "target = \"Won\"\n",
    "features = list(EMEA.columns.values)\n",
    "features.remove(target)\n",
    "X = EMEA[features]\n",
    "y = EMEA[target]\n",
    "X,y"
   ]
  },
  {
   "cell_type": "code",
   "execution_count": 9,
   "metadata": {},
   "outputs": [
    {
     "data": {
      "text/plain": [
       "Won\n",
       "1    0.509615\n",
       "0    0.490385\n",
       "Name: proportion, dtype: float64"
      ]
     },
     "execution_count": 9,
     "metadata": {},
     "output_type": "execute_result"
    }
   ],
   "source": [
    "## Good proportion, Balanced.\n",
    "y.value_counts(normalize = True)"
   ]
  },
  {
   "cell_type": "code",
   "execution_count": 13,
   "metadata": {},
   "outputs": [
    {
     "data": {
      "text/html": [
       "<div>\n",
       "<style scoped>\n",
       "    .dataframe tbody tr th:only-of-type {\n",
       "        vertical-align: middle;\n",
       "    }\n",
       "\n",
       "    .dataframe tbody tr th {\n",
       "        vertical-align: top;\n",
       "    }\n",
       "\n",
       "    .dataframe thead th {\n",
       "        text-align: right;\n",
       "    }\n",
       "</style>\n",
       "<table border=\"1\" class=\"dataframe\">\n",
       "  <thead>\n",
       "    <tr style=\"text-align: right;\">\n",
       "      <th></th>\n",
       "      <th>map_Ascent</th>\n",
       "      <th>map_Fracture</th>\n",
       "      <th>map_Haven</th>\n",
       "      <th>map_Icebox</th>\n",
       "      <th>map_Lotus</th>\n",
       "      <th>map_Pearl</th>\n",
       "      <th>map_Split</th>\n",
       "      <th>t1_team_name_Apeks</th>\n",
       "      <th>t1_team_name_BBL Esports</th>\n",
       "      <th>t1_team_name_FNATIC</th>\n",
       "      <th>...</th>\n",
       "      <th>t2_team_name_FNATIC</th>\n",
       "      <th>t2_team_name_FUT Esports</th>\n",
       "      <th>t2_team_name_GIANTX</th>\n",
       "      <th>t2_team_name_Gentle Mates</th>\n",
       "      <th>t2_team_name_KOI</th>\n",
       "      <th>t2_team_name_Karmine Corp</th>\n",
       "      <th>t2_team_name_Natus Vincere</th>\n",
       "      <th>t2_team_name_Team Heretics</th>\n",
       "      <th>t2_team_name_Team Liquid</th>\n",
       "      <th>t2_team_name_Team Vitality</th>\n",
       "    </tr>\n",
       "  </thead>\n",
       "  <tbody>\n",
       "    <tr>\n",
       "      <th>0</th>\n",
       "      <td>False</td>\n",
       "      <td>False</td>\n",
       "      <td>False</td>\n",
       "      <td>False</td>\n",
       "      <td>False</td>\n",
       "      <td>False</td>\n",
       "      <td>True</td>\n",
       "      <td>False</td>\n",
       "      <td>False</td>\n",
       "      <td>True</td>\n",
       "      <td>...</td>\n",
       "      <td>False</td>\n",
       "      <td>False</td>\n",
       "      <td>False</td>\n",
       "      <td>False</td>\n",
       "      <td>False</td>\n",
       "      <td>False</td>\n",
       "      <td>False</td>\n",
       "      <td>True</td>\n",
       "      <td>False</td>\n",
       "      <td>False</td>\n",
       "    </tr>\n",
       "    <tr>\n",
       "      <th>1</th>\n",
       "      <td>False</td>\n",
       "      <td>False</td>\n",
       "      <td>False</td>\n",
       "      <td>True</td>\n",
       "      <td>False</td>\n",
       "      <td>False</td>\n",
       "      <td>False</td>\n",
       "      <td>False</td>\n",
       "      <td>False</td>\n",
       "      <td>False</td>\n",
       "      <td>...</td>\n",
       "      <td>False</td>\n",
       "      <td>False</td>\n",
       "      <td>False</td>\n",
       "      <td>False</td>\n",
       "      <td>False</td>\n",
       "      <td>False</td>\n",
       "      <td>False</td>\n",
       "      <td>False</td>\n",
       "      <td>True</td>\n",
       "      <td>False</td>\n",
       "    </tr>\n",
       "    <tr>\n",
       "      <th>2</th>\n",
       "      <td>True</td>\n",
       "      <td>False</td>\n",
       "      <td>False</td>\n",
       "      <td>False</td>\n",
       "      <td>False</td>\n",
       "      <td>False</td>\n",
       "      <td>False</td>\n",
       "      <td>False</td>\n",
       "      <td>False</td>\n",
       "      <td>False</td>\n",
       "      <td>...</td>\n",
       "      <td>False</td>\n",
       "      <td>False</td>\n",
       "      <td>False</td>\n",
       "      <td>False</td>\n",
       "      <td>False</td>\n",
       "      <td>False</td>\n",
       "      <td>False</td>\n",
       "      <td>True</td>\n",
       "      <td>False</td>\n",
       "      <td>False</td>\n",
       "    </tr>\n",
       "    <tr>\n",
       "      <th>3</th>\n",
       "      <td>False</td>\n",
       "      <td>False</td>\n",
       "      <td>True</td>\n",
       "      <td>False</td>\n",
       "      <td>False</td>\n",
       "      <td>False</td>\n",
       "      <td>False</td>\n",
       "      <td>False</td>\n",
       "      <td>False</td>\n",
       "      <td>False</td>\n",
       "      <td>...</td>\n",
       "      <td>False</td>\n",
       "      <td>False</td>\n",
       "      <td>False</td>\n",
       "      <td>False</td>\n",
       "      <td>False</td>\n",
       "      <td>False</td>\n",
       "      <td>False</td>\n",
       "      <td>False</td>\n",
       "      <td>True</td>\n",
       "      <td>False</td>\n",
       "    </tr>\n",
       "    <tr>\n",
       "      <th>4</th>\n",
       "      <td>False</td>\n",
       "      <td>True</td>\n",
       "      <td>False</td>\n",
       "      <td>False</td>\n",
       "      <td>False</td>\n",
       "      <td>False</td>\n",
       "      <td>False</td>\n",
       "      <td>False</td>\n",
       "      <td>False</td>\n",
       "      <td>False</td>\n",
       "      <td>...</td>\n",
       "      <td>False</td>\n",
       "      <td>False</td>\n",
       "      <td>False</td>\n",
       "      <td>False</td>\n",
       "      <td>False</td>\n",
       "      <td>False</td>\n",
       "      <td>False</td>\n",
       "      <td>False</td>\n",
       "      <td>False</td>\n",
       "      <td>False</td>\n",
       "    </tr>\n",
       "  </tbody>\n",
       "</table>\n",
       "<p>5 rows × 31 columns</p>\n",
       "</div>"
      ],
      "text/plain": [
       "   map_Ascent  map_Fracture  map_Haven  map_Icebox  map_Lotus  map_Pearl  \\\n",
       "0       False         False      False       False      False      False   \n",
       "1       False         False      False        True      False      False   \n",
       "2        True         False      False       False      False      False   \n",
       "3       False         False       True       False      False      False   \n",
       "4       False          True      False       False      False      False   \n",
       "\n",
       "   map_Split  t1_team_name_Apeks  t1_team_name_BBL Esports  \\\n",
       "0       True               False                     False   \n",
       "1      False               False                     False   \n",
       "2      False               False                     False   \n",
       "3      False               False                     False   \n",
       "4      False               False                     False   \n",
       "\n",
       "   t1_team_name_FNATIC  ...  t2_team_name_FNATIC  t2_team_name_FUT Esports  \\\n",
       "0                 True  ...                False                     False   \n",
       "1                False  ...                False                     False   \n",
       "2                False  ...                False                     False   \n",
       "3                False  ...                False                     False   \n",
       "4                False  ...                False                     False   \n",
       "\n",
       "   t2_team_name_GIANTX  t2_team_name_Gentle Mates  t2_team_name_KOI  \\\n",
       "0                False                      False             False   \n",
       "1                False                      False             False   \n",
       "2                False                      False             False   \n",
       "3                False                      False             False   \n",
       "4                False                      False             False   \n",
       "\n",
       "   t2_team_name_Karmine Corp  t2_team_name_Natus Vincere  \\\n",
       "0                      False                       False   \n",
       "1                      False                       False   \n",
       "2                      False                       False   \n",
       "3                      False                       False   \n",
       "4                      False                       False   \n",
       "\n",
       "   t2_team_name_Team Heretics  t2_team_name_Team Liquid  \\\n",
       "0                        True                     False   \n",
       "1                       False                      True   \n",
       "2                        True                     False   \n",
       "3                       False                      True   \n",
       "4                       False                     False   \n",
       "\n",
       "   t2_team_name_Team Vitality  \n",
       "0                       False  \n",
       "1                       False  \n",
       "2                       False  \n",
       "3                       False  \n",
       "4                       False  \n",
       "\n",
       "[5 rows x 31 columns]"
      ]
     },
     "execution_count": 13,
     "metadata": {},
     "output_type": "execute_result"
    }
   ],
   "source": [
    "X = pd.get_dummies(X)\n",
    "X.head()"
   ]
  },
  {
   "cell_type": "code",
   "execution_count": 14,
   "metadata": {},
   "outputs": [
    {
     "ename": "AttributeError",
     "evalue": "'Axes' object has no attribute 'plt'",
     "output_type": "error",
     "traceback": [
      "\u001b[31m---------------------------------------------------------------------------\u001b[39m",
      "\u001b[31mAttributeError\u001b[39m                            Traceback (most recent call last)",
      "\u001b[36mCell\u001b[39m\u001b[36m \u001b[39m\u001b[32mIn[14]\u001b[39m\u001b[32m, line 2\u001b[39m\n\u001b[32m      1\u001b[39m plt.figure(figsize=(\u001b[32m12\u001b[39m,\u001b[32m8\u001b[39m))\n\u001b[32m----> \u001b[39m\u001b[32m2\u001b[39m \u001b[43mX\u001b[49m\u001b[43m.\u001b[49m\u001b[43mcorrwith\u001b[49m\u001b[43m(\u001b[49m\u001b[43my\u001b[49m\u001b[43m)\u001b[49m\u001b[43m.\u001b[49m\u001b[43msort_values\u001b[49m\u001b[43m(\u001b[49m\u001b[43mascending\u001b[49m\u001b[43m \u001b[49m\u001b[43m=\u001b[49m\u001b[43m \u001b[49m\u001b[38;5;28;43;01mFalse\u001b[39;49;00m\u001b[43m)\u001b[49m\u001b[43m.\u001b[49m\u001b[43mplot\u001b[49m\u001b[43m(\u001b[49m\u001b[43mkind\u001b[49m\u001b[43m \u001b[49m\u001b[43m=\u001b[49m\u001b[43m \u001b[49m\u001b[33;43m\"\u001b[39;49m\u001b[33;43mbar\u001b[39;49m\u001b[33;43m\"\u001b[39;49m\u001b[43m)\u001b[49m\u001b[43m.\u001b[49m\u001b[43mplt\u001b[49m(figsize=(\u001b[32m10\u001b[39m,\u001b[32m4\u001b[39m))\n",
      "\u001b[31mAttributeError\u001b[39m: 'Axes' object has no attribute 'plt'"
     ]
    },
    {
     "data": {
      "image/png": "[encoded data removed]",
      "text/plain": [
       "<Figure size 1200x800 with 1 Axes>"
      ]
     },
     "metadata": {},
     "output_type": "display_data"
    }
   ],
   "source": [
    "plt.figure(figsize=(12,8))\n",
    "X.corrwith(y).sort_values(ascending = False).plot(kind = \"bar\").plt(figsize=(10,4))"
   ]
  },
  {
   "cell_type": "markdown",
   "metadata": {},
   "source": [
    "#### Already can see which teams are more difficult to predict!"
   ]
  },
  {
   "cell_type": "code",
   "execution_count": 15,
   "metadata": {},
   "outputs": [],
   "source": [
    "X_train, X_test, y_train, y_test = train_test_split(X, y, test_size=0.2, random_state=42)"
   ]
  },
  {
   "cell_type": "markdown",
   "metadata": {},
   "source": [
    "#### Model Selection"
   ]
  },
  {
   "cell_type": "code",
   "execution_count": 16,
   "metadata": {},
   "outputs": [
    {
     "name": "stdout",
     "output_type": "stream",
     "text": [
      "              precision    recall  f1-score   support\n",
      "\n",
      "           0       0.50      0.55      0.52        11\n",
      "           1       0.44      0.40      0.42        10\n",
      "\n",
      "    accuracy                           0.48        21\n",
      "   macro avg       0.47      0.47      0.47        21\n",
      "weighted avg       0.47      0.48      0.47        21\n",
      "\n"
     ]
    }
   ],
   "source": [
    "# Model selection, classifier.\n",
    "models = {\n",
    "    \"Logistic regression\": LogisticRegression(random_state = 1),\n",
    "    \"Decision tree\": DecisionTreeClassifier(random_state = 1),\n",
    "    \"Random fores\": RandomForestClassifier(random_state = 1),\n",
    "    \"Gradient boosting\": GradientBoostingClassifier(random_state = 1)\n",
    "}\n",
    "for name, model in models.items():\n",
    "    model.fit(X_train, y_train)\n",
    "    y_pred = model.predict(X_test)\n",
    "\n",
    "## First report.\n",
    "print(classification_report(y_test, y_pred))"
   ]
  },
  {
   "cell_type": "code",
   "execution_count": 17,
   "metadata": {},
   "outputs": [
    {
     "data": {
      "text/html": [
       "<div>\n",
       "<style scoped>\n",
       "    .dataframe tbody tr th:only-of-type {\n",
       "        vertical-align: middle;\n",
       "    }\n",
       "\n",
       "    .dataframe tbody tr th {\n",
       "        vertical-align: top;\n",
       "    }\n",
       "\n",
       "    .dataframe thead th {\n",
       "        text-align: right;\n",
       "    }\n",
       "</style>\n",
       "<table border=\"1\" class=\"dataframe\">\n",
       "  <thead>\n",
       "    <tr style=\"text-align: right;\">\n",
       "      <th></th>\n",
       "      <th>model_name</th>\n",
       "      <th>f1</th>\n",
       "      <th>precision</th>\n",
       "      <th>accuracy</th>\n",
       "      <th>recall</th>\n",
       "    </tr>\n",
       "  </thead>\n",
       "  <tbody>\n",
       "    <tr>\n",
       "      <th>0</th>\n",
       "      <td>Logistic regression</td>\n",
       "      <td>0.76</td>\n",
       "      <td>0.73</td>\n",
       "      <td>0.76</td>\n",
       "      <td>0.8</td>\n",
       "    </tr>\n",
       "    <tr>\n",
       "      <th>1</th>\n",
       "      <td>Decision tree</td>\n",
       "      <td>0.22</td>\n",
       "      <td>0.25</td>\n",
       "      <td>0.33</td>\n",
       "      <td>0.2</td>\n",
       "    </tr>\n",
       "    <tr>\n",
       "      <th>2</th>\n",
       "      <td>Random fores</td>\n",
       "      <td>0.53</td>\n",
       "      <td>0.56</td>\n",
       "      <td>0.57</td>\n",
       "      <td>0.5</td>\n",
       "    </tr>\n",
       "    <tr>\n",
       "      <th>3</th>\n",
       "      <td>Gradient boosting</td>\n",
       "      <td>0.42</td>\n",
       "      <td>0.44</td>\n",
       "      <td>0.48</td>\n",
       "      <td>0.4</td>\n",
       "    </tr>\n",
       "  </tbody>\n",
       "</table>\n",
       "</div>"
      ],
      "text/plain": [
       "            model_name    f1  precision  accuracy  recall\n",
       "0  Logistic regression  0.76       0.73      0.76     0.8\n",
       "1        Decision tree  0.22       0.25      0.33     0.2\n",
       "2         Random fores  0.53       0.56      0.57     0.5\n",
       "3    Gradient boosting  0.42       0.44      0.48     0.4"
      ]
     },
     "execution_count": 17,
     "metadata": {},
     "output_type": "execute_result"
    }
   ],
   "source": [
    "## Looking at the scores.\n",
    "model_scores = {}\n",
    "for name, model in models.items():\n",
    "    model.fit(X_train, y_train)\n",
    "    y_pred = model.predict(X_test)\n",
    "    f1 = f1_score(y_test, y_pred)\n",
    "    precision = precision_score(y_test, y_pred)\n",
    "    accuracy = accuracy_score(y_test, y_pred)\n",
    "    recall = recall_score(y_test, y_pred)\n",
    "\n",
    "    scores = pd.DataFrame([\n",
    "    {\n",
    "        \"model_name\": name,\n",
    "        \"f1\": round(f1_score(y_test, (y_pred := model.fit(X_train, y_train).predict(X_test))), 2),\n",
    "        \"precision\": round(precision_score(y_test, y_pred), 2),\n",
    "        \"accuracy\": round(accuracy_score(y_test, y_pred), 2),\n",
    "        \"recall\": round(recall_score(y_test, y_pred), 2)\n",
    "    }\n",
    "for name, model in models.items()\n",
    "    ])\n",
    "scores"
   ]
  },
  {
   "cell_type": "markdown",
   "metadata": {},
   "source": [
    "#### In this case Logistic regression is the one with overall better metrics, but it might depend on the dataset. "
   ]
  },
  {
   "cell_type": "code",
   "execution_count": null,
   "metadata": {},
   "outputs": [],
   "source": []
  }
 ],
 "metadata": {
  "kernelspec": {
   "display_name": "Python 3",
   "language": "python",
   "name": "python3"
  },
  "language_info": {
   "codemirror_mode": {
    "name": "ipython",
    "version": 3
   },
   "file_extension": ".py",
   "mimetype": "text/x-python",
   "name": "python",
   "nbconvert_exporter": "python",
   "pygments_lexer": "ipython3",
   "version": "3.12.10"
  }
 },
 "nbformat": 4,
 "nbformat_minor": 2
}
